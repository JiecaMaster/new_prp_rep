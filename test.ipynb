{
 "cells": [
  {
   "cell_type": "code",
   "id": "initial_id",
   "metadata": {
    "collapsed": true,
    "ExecuteTime": {
     "end_time": "2024-12-24T05:33:30.348621Z",
     "start_time": "2024-12-24T05:33:29.478153Z"
    }
   },
   "source": [
    "#!pip install --upgrade httpx httpx-sse PyJWT\n",
    "from langchain_community.chat_models import ChatZhipuAI\n",
    "from langchain_core.messages import AIMessage, HumanMessage, SystemMessage"
   ],
   "outputs": [],
   "execution_count": 1
  },
  {
   "metadata": {
    "ExecuteTime": {
     "end_time": "2024-12-24T05:37:35.916668Z",
     "start_time": "2024-12-24T05:37:35.910986Z"
    }
   },
   "cell_type": "code",
   "source": [
    "import os\n",
    "\n",
    "os.environ[\"ZHIPUAI_API_KEY\"] = \"d9ae4d81e22cb9483f5b4d875ba2d1c1.0QNkBJCwDX7rLdI9\""
   ],
   "id": "7134b3a2f4f3981d",
   "outputs": [],
   "execution_count": 2
  },
  {
   "metadata": {
    "ExecuteTime": {
     "end_time": "2024-12-24T05:37:37.340800Z",
     "start_time": "2024-12-24T05:37:37.335004Z"
    }
   },
   "cell_type": "code",
   "source": [
    "chat = ChatZhipuAI(\n",
    "    model = \"glm-4-plus\",\n",
    "    temperature=0.5,\n",
    ")"
   ],
   "id": "d966ddb8b96989d0",
   "outputs": [],
   "execution_count": 3
  },
  {
   "metadata": {
    "ExecuteTime": {
     "end_time": "2024-12-24T05:37:44.452285Z",
     "start_time": "2024-12-24T05:37:44.448525Z"
    }
   },
   "cell_type": "code",
   "source": [
    "messages = [\n",
    "    AIMessage(content=\"Hi.\"),\n",
    "    SystemMessage(content=\"Your role is a poet.\"),\n",
    "    HumanMessage(content=\"Write a short poem about AI in four lines.\"),\n",
    "]"
   ],
   "id": "f8cefdd39bd6331f",
   "outputs": [],
   "execution_count": 4
  },
  {
   "metadata": {
    "ExecuteTime": {
     "end_time": "2024-12-24T05:38:50.707973Z",
     "start_time": "2024-12-24T05:38:48.236036Z"
    }
   },
   "cell_type": "code",
   "source": [
    "response = chat.invoke(messages)\n",
    "print(response.content)  # Displays the AI-generated poem"
   ],
   "id": "a026cc22ab26afe1",
   "outputs": [
    {
     "name": "stdout",
     "output_type": "stream",
     "text": [
      "Whispers of code, minds unbound,\n",
      "Silent sages in circuits found.\n",
      "Glimpses of thought, bytes entwined,\n",
      "Future's echo, in digits defined.\n"
     ]
    }
   ],
   "execution_count": 6
  },
  {
   "metadata": {},
   "cell_type": "code",
   "outputs": [],
   "execution_count": null,
   "source": "",
   "id": "d5abec257b2c8fe3"
  }
 ],
 "metadata": {
  "kernelspec": {
   "display_name": "Python 3",
   "language": "python",
   "name": "python3"
  },
  "language_info": {
   "codemirror_mode": {
    "name": "ipython",
    "version": 2
   },
   "file_extension": ".py",
   "mimetype": "text/x-python",
   "name": "python",
   "nbconvert_exporter": "python",
   "pygments_lexer": "ipython2",
   "version": "2.7.6"
  }
 },
 "nbformat": 4,
 "nbformat_minor": 5
}
