{
 "cells": [
  {
   "cell_type": "code",
   "id": "initial_id",
   "metadata": {
    "collapsed": true,
    "ExecuteTime": {
     "end_time": "2025-02-07T03:12:45.296062Z",
     "start_time": "2025-02-07T03:12:45.291949Z"
    }
   },
   "source": [
    "#!pip install --upgrade httpx httpx-sse PyJWT\n",
    "from langchain_community.chat_models import ChatZhipuAI\n",
    "from langchain_core.messages import AIMessage, HumanMessage, SystemMessage\n",
    "from langchain_core.callbacks.manager import CallbackManager\n",
    "from langchain_core.callbacks.streaming_stdout import StreamingStdOutCallbackHandler\n",
    "import os\n",
    "\n",
    "os.environ[\"ZHIPUAI_API_KEY\"] = \"d9ae4d81e22cb9483f5b4d875ba2d1c1.0QNkBJCwDX7rLdI9\""
   ],
   "outputs": [],
   "execution_count": 11
  },
  {
   "metadata": {
    "ExecuteTime": {
     "end_time": "2025-02-07T03:12:45.359704Z",
     "start_time": "2025-02-07T03:12:45.353261Z"
    }
   },
   "cell_type": "code",
   "source": [
    "chat = ChatZhipuAI(\n",
    "    model= \"glm-4-plus\",\n",
    "    temperature=0.5,\n",
    "    streaming=True,\n",
    "    callback_manager=CallbackManager([StreamingStdOutCallbackHandler()]),\n",
    ")"
   ],
   "id": "3e9c2113477398b3",
   "outputs": [],
   "execution_count": 12
  },
  {
   "metadata": {
    "ExecuteTime": {
     "end_time": "2025-02-07T03:12:45.438826Z",
     "start_time": "2025-02-07T03:12:45.431921Z"
    }
   },
   "cell_type": "code",
   "source": [
    "from langgraph.checkpoint.memory import MemorySaver\n",
    "from langgraph.graph import START, MessagesState, StateGraph\n",
    "\n",
    "# Define a new graph\n",
    "workflow = StateGraph(state_schema=MessagesState)\n",
    "\n",
    "\n",
    "# Define the function that calls the model\n",
    "def call_model(state: MessagesState):\n",
    "    response = chat.invoke(state[\"messages\"])\n",
    "    return {\"messages\": response}\n",
    "\n",
    "\n",
    "# Define the (single) node in the graph\n",
    "workflow.add_edge(START, \"model\")\n",
    "workflow.add_node(\"model\", call_model)\n",
    "\n",
    "# Add memory\n",
    "memory = MemorySaver()\n",
    "app = workflow.compile(checkpointer=memory)"
   ],
   "id": "ccfcf941db12c1ab",
   "outputs": [],
   "execution_count": 13
  },
  {
   "metadata": {
    "ExecuteTime": {
     "end_time": "2025-02-07T03:12:45.479266Z",
     "start_time": "2025-02-07T03:12:45.475113Z"
    }
   },
   "cell_type": "code",
   "source": "config = {\"configurable\": {\"thread_id\": \"abc123\"}}",
   "id": "1e4876eec39143e1",
   "outputs": [],
   "execution_count": 14
  },
  {
   "metadata": {
    "ExecuteTime": {
     "end_time": "2025-02-07T03:12:47.119959Z",
     "start_time": "2025-02-07T03:12:45.528726Z"
    }
   },
   "cell_type": "code",
   "source": [
    "query = \"Hi! I'm Bob.\"\n",
    "\n",
    "input_messages = [HumanMessage(query)]\n",
    "output = app.invoke({\"messages\": input_messages}, config)\n",
    "output[\"messages\"][-1].pretty_print()  # output contains all messages in state"
   ],
   "id": "19c63fee07027d5d",
   "outputs": [
    {
     "name": "stdout",
     "output_type": "stream",
     "text": [
      "Hi Bob! How can I assist you today?==================================\u001B[1m Ai Message \u001B[0m==================================\n",
      "\n",
      "Hi Bob! How can I assist you today?\n"
     ]
    }
   ],
   "execution_count": 15
  },
  {
   "metadata": {
    "ExecuteTime": {
     "end_time": "2025-02-07T03:12:48.656220Z",
     "start_time": "2025-02-07T03:12:47.146047Z"
    }
   },
   "cell_type": "code",
   "source": [
    "query = \"What's my name?\"\n",
    "\n",
    "input_messages = [HumanMessage(query)]\n",
    "output = app.invoke({\"messages\": input_messages}, config)\n",
    "output[\"messages\"][-1].pretty_print()"
   ],
   "id": "8a68e434c957e1ee",
   "outputs": [
    {
     "name": "stdout",
     "output_type": "stream",
     "text": [
      "Your name is Bob! How can I help you today, Bob?==================================\u001B[1m Ai Message \u001B[0m==================================\n",
      "\n",
      "Your name is Bob! How can I help you today, Bob?\n"
     ]
    }
   ],
   "execution_count": 16
  },
  {
   "metadata": {
    "ExecuteTime": {
     "end_time": "2025-02-07T03:13:09.095133Z",
     "start_time": "2025-02-07T03:13:08.695999Z"
    }
   },
   "cell_type": "code",
   "source": [
    "# from IPython.display import Image, display\n",
    "#\n",
    "# # try:\n",
    "# display(Image(workflow.get_graph().draw_mermaid_png()))\n",
    "# # except Exception:\n",
    "# #     # This requires some extra dependencies and is optional\n",
    "# #     print('error')\n",
    "# #     pass"
   ],
   "id": "4059de741cab8fda",
   "outputs": [
    {
     "ename": "AttributeError",
     "evalue": "'StateGraph' object has no attribute 'get_graph'",
     "output_type": "error",
     "traceback": [
      "\u001B[0;31m---------------------------------------------------------------------------\u001B[0m",
      "\u001B[0;31mAttributeError\u001B[0m                            Traceback (most recent call last)",
      "Cell \u001B[0;32mIn[18], line 4\u001B[0m\n\u001B[1;32m      1\u001B[0m \u001B[38;5;28;01mfrom\u001B[39;00m \u001B[38;5;21;01mIPython\u001B[39;00m\u001B[38;5;21;01m.\u001B[39;00m\u001B[38;5;21;01mdisplay\u001B[39;00m \u001B[38;5;28;01mimport\u001B[39;00m Image, display\n\u001B[1;32m      3\u001B[0m \u001B[38;5;66;03m# try:\u001B[39;00m\n\u001B[0;32m----> 4\u001B[0m display(Image(workflow\u001B[38;5;241m.\u001B[39mget_graph()\u001B[38;5;241m.\u001B[39mdraw_mermaid_png()))\n",
      "\u001B[0;31mAttributeError\u001B[0m: 'StateGraph' object has no attribute 'get_graph'"
     ]
    }
   ],
   "execution_count": 18
  }
 ],
 "metadata": {
  "kernelspec": {
   "display_name": "Python 3",
   "language": "python",
   "name": "python3"
  },
  "language_info": {
   "codemirror_mode": {
    "name": "ipython",
    "version": 2
   },
   "file_extension": ".py",
   "mimetype": "text/x-python",
   "name": "python",
   "nbconvert_exporter": "python",
   "pygments_lexer": "ipython2",
   "version": "2.7.6"
  }
 },
 "nbformat": 4,
 "nbformat_minor": 5
}
