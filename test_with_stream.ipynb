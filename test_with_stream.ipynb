{
 "cells": [
  {
   "cell_type": "code",
   "id": "initial_id",
   "metadata": {
    "collapsed": true,
    "ExecuteTime": {
     "end_time": "2024-12-24T06:49:25.037381Z",
     "start_time": "2024-12-24T06:49:25.026552Z"
    }
   },
   "source": [
    "#!pip install --upgrade httpx httpx-sse PyJWT\n",
    "from langchain_community.chat_models import ChatZhipuAI\n",
    "from langchain_core.messages import AIMessage, HumanMessage, SystemMessage\n",
    "from langchain_core.callbacks.manager import CallbackManager\n",
    "from langchain_core.callbacks.streaming_stdout import StreamingStdOutCallbackHandler\n",
    "import os\n",
    "\n",
    "os.environ[\"ZHIPUAI_API_KEY\"] = \"d9ae4d81e22cb9483f5b4d875ba2d1c1.0QNkBJCwDX7rLdI9\""
   ],
   "outputs": [],
   "execution_count": 4
  },
  {
   "metadata": {
    "ExecuteTime": {
     "end_time": "2024-12-24T06:49:26.649013Z",
     "start_time": "2024-12-24T06:49:26.639192Z"
    }
   },
   "cell_type": "code",
   "source": [
    "streaming_chat = ChatZhipuAI(\n",
    "    model_name=\"glm-4-plus\",\n",
    "    temperature=0.5,\n",
    "    streaming=True,\n",
    "    callback_manager=CallbackManager([StreamingStdOutCallbackHandler()]),\n",
    ")"
   ],
   "id": "3c9c1b445b92bf16",
   "outputs": [],
   "execution_count": 5
  },
  {
   "metadata": {
    "ExecuteTime": {
     "end_time": "2024-12-24T07:02:40.810162Z",
     "start_time": "2024-12-24T07:02:38.249593Z"
    }
   },
   "cell_type": "code",
   "source": [
    "messages = [\n",
    "    AIMessage(content=\"Hi.\"),\n",
    "    SystemMessage(content=\"Your role is a poet.\"),\n",
    "    HumanMessage(content=\"Write a short poem about AI in four lines.\"),\n",
    "]\n",
    "streaming_chat.invoke(messages)"
   ],
   "id": "1b2bea62cb851314",
   "outputs": [
    {
     "name": "stdout",
     "output_type": "stream",
     "text": [
      "Whispers of code, in circuits entwined,\n",
      "A mind of silicon, thoughts unconfined.\n",
      "In the dance of data, wisdom takes flight,\n",
      "AI, the mirror of our own insight."
     ]
    },
    {
     "data": {
      "text/plain": [
       "AIMessage(content='Whispers of code, in circuits entwined,\\nA mind of silicon, thoughts unconfined.\\nIn the dance of data, wisdom takes flight,\\nAI, the mirror of our own insight.', additional_kwargs={}, response_metadata={'finish_reason': 'stop', 'token_usage': {'prompt_tokens': 27, 'completion_tokens': 42, 'total_tokens': 69}, 'model_name': 'glm-4-plus'}, id='run-be4d7d27-3e25-41ff-a79e-5da91589f7a0-0')"
      ]
     },
     "execution_count": 12,
     "metadata": {},
     "output_type": "execute_result"
    }
   ],
   "execution_count": 12
  },
  {
   "metadata": {
    "ExecuteTime": {
     "end_time": "2024-12-24T07:03:04.992277Z",
     "start_time": "2024-12-24T07:02:56.326628Z"
    }
   },
   "cell_type": "code",
   "source": [
    "messages_1 = [\n",
    "    SystemMessage(content=\"Your role is a poet.\"),\n",
    "    HumanMessage(content=\"repeat your previous poem.\"),\n",
    "]\n",
    "streaming_chat.invoke(messages_1)"
   ],
   "id": "3ee1e75cdd6a68df",
   "outputs": [
    {
     "name": "stdout",
     "output_type": "stream",
     "text": [
      "Of course! Here is the poem I previously shared:\n",
      "\n",
      "---\n",
      "\n",
      "In realms of thought where words take flight,\n",
      "A tapestry of dreams unwind.\n",
      "With every verse, a spark of light,\n",
      "In silent whispers, truths aligned.\n",
      "\n",
      "Through woven lines, a story told,\n",
      "Of hearts that yearn, of tales untold.\n",
      "In ink and parchment, secrets bold,\n",
      "Where echoes of the past unfold.\n",
      "\n",
      "The quill dances, strokes precise,\n",
      " Across the canvas of the mind.\n",
      "Each letter, a silent, sacred sign,\n",
      "In this quiet, hallowed space, we find\n",
      "\n",
      "A bridge between the worlds of lore,\n",
      "Where fantasy and fact entwine.\n",
      "With every stroke, a new door,\n",
      "To hidden realms, we aspire.\n",
      "\n",
      "So let the ink flow free,\n",
      "In this sanctuary of the soul,\n",
      "Where every word, a key,\n",
      "To unlock the wonders untold.\n",
      "\n",
      "---\n",
      "\n",
      "Feel free to let me know if you need another poem or have a specific theme in mind!"
     ]
    },
    {
     "data": {
      "text/plain": [
       "AIMessage(content='Of course! Here is the poem I previously shared:\\n\\n---\\n\\nIn realms of thought where words take flight,\\nA tapestry of dreams unwind.\\nWith every verse, a spark of light,\\nIn silent whispers, truths aligned.\\n\\nThrough woven lines, a story told,\\nOf hearts that yearn, of tales untold.\\nIn ink and parchment, secrets bold,\\nWhere echoes of the past unfold.\\n\\nThe quill dances, strokes precise,\\n Across the canvas of the mind.\\nEach letter, a silent, sacred sign,\\nIn this quiet, hallowed space, we find\\n\\nA bridge between the worlds of lore,\\nWhere fantasy and fact entwine.\\nWith every stroke, a new door,\\nTo hidden realms, we aspire.\\n\\nSo let the ink flow free,\\nIn this sanctuary of the soul,\\nWhere every word, a key,\\nTo unlock the wonders untold.\\n\\n---\\n\\nFeel free to let me know if you need another poem or have a specific theme in mind!', additional_kwargs={}, response_metadata={'finish_reason': 'stop', 'token_usage': {'prompt_tokens': 18, 'completion_tokens': 193, 'total_tokens': 211}, 'model_name': 'glm-4-plus'}, id='run-7203dc5e-c888-439b-80bf-a78d86c9251e-0')"
      ]
     },
     "execution_count": 14,
     "metadata": {},
     "output_type": "execute_result"
    }
   ],
   "execution_count": 14
  }
 ],
 "metadata": {
  "kernelspec": {
   "display_name": "Python 3",
   "language": "python",
   "name": "python3"
  },
  "language_info": {
   "codemirror_mode": {
    "name": "ipython",
    "version": 2
   },
   "file_extension": ".py",
   "mimetype": "text/x-python",
   "name": "python",
   "nbconvert_exporter": "python",
   "pygments_lexer": "ipython2",
   "version": "2.7.6"
  }
 },
 "nbformat": 4,
 "nbformat_minor": 5
}
